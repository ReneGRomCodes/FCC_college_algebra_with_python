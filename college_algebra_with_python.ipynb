{
  "nbformat": 4,
  "nbformat_minor": 0,
  "metadata": {
    "colab": {
      "provenance": []
    },
    "kernelspec": {
      "name": "python3",
      "display_name": "Python 3"
    },
    "language_info": {
      "name": "python"
    }
  },
  "cells": [
    {
      "cell_type": "markdown",
      "source": [
        "# Proportions\n",
        "Set up a proportion:  \n",
        "$\\frac{n1}{d1} = \\frac{n2}{d2}$\n",
        "\n",
        "Example for a proportion with an unknown value:  \n",
        "$\\frac{1}{2} = \\frac{x}{16}$"
      ],
      "metadata": {
        "id": "LZIeKgiqjYhm"
      }
    },
    {
      "cell_type": "code",
      "source": [
        "# Put a zero in for the unknown value\n",
        "n1 = 1\n",
        "d1 = 2\n",
        "n2 = 0\n",
        "d2 = 16\n",
        "\n",
        "if n2 == 0:\n",
        "  answer = d2 * n1 / d1\n",
        "  print(\"n2 = \" + str(answer))\n",
        "\n",
        "if d2 == 0:\n",
        "  answer = n2 * d1 / n1\n",
        "  print(\"d2 = \" + str(answer))"
      ],
      "metadata": {
        "id": "3JXWGdF_kKay"
      },
      "execution_count": null,
      "outputs": []
    },
    {
      "cell_type": "markdown",
      "source": [
        "# Solving for x\n",
        "The variable `eq` is the equation set equal to zero. This will print an array of solutions."
      ],
      "metadata": {
        "id": "0KVboWBO1c5f"
      }
    },
    {
      "cell_type": "code",
      "source": [
        "import sympy\n",
        "from sympy import symbols\n",
        "from sympy.solvers import solve\n",
        "\n",
        "x = symbols('x')\n",
        "\n",
        "# Put the equation here\n",
        "eq = 2*x - 4\n",
        "\n",
        "print(\"x = \", solve(eq,x))"
      ],
      "metadata": {
        "id": "7DVbTE-c1ynk"
      },
      "execution_count": null,
      "outputs": []
    }
  ]
}