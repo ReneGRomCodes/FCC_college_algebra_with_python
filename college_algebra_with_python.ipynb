{
  "nbformat": 4,
  "nbformat_minor": 0,
  "metadata": {
    "colab": {
      "provenance": []
    },
    "kernelspec": {
      "name": "python3",
      "display_name": "Python 3"
    },
    "language_info": {
      "name": "python"
    }
  },
  "cells": [
    {
      "cell_type": "markdown",
      "source": [
        "# Proportions\n",
        "Set up a proportion:  \n",
        "$\\frac{n1}{d1} = \\frac{n2}{d2}$\n",
        "\n",
        "Example for a proportion with an unknown value:  \n",
        "$\\frac{1}{2} = \\frac{x}{16}$"
      ],
      "metadata": {
        "id": "LZIeKgiqjYhm"
      }
    },
    {
      "cell_type": "code",
      "source": [
        "# Put a zero in for the unknown value\n",
        "n1 = 1\n",
        "d1 = 2\n",
        "n2 = 0\n",
        "d2 = 16\n",
        "\n",
        "if n2 == 0:\n",
        "  answer = d2 * n1 / d1\n",
        "  print(\"n2 = \" + str(answer))\n",
        "\n",
        "if d2 == 0:\n",
        "  answer = n2 * d1 / n1\n",
        "  print(\"d2 = \" + str(answer))"
      ],
      "metadata": {
        "colab": {
          "base_uri": "https://localhost:8080/"
        },
        "id": "3JXWGdF_kKay",
        "outputId": "b45c2d36-c6c6-41eb-bee2-650e09511d18"
      },
      "execution_count": 3,
      "outputs": [
        {
          "output_type": "stream",
          "name": "stdout",
          "text": [
            "n2 = 8.0\n"
          ]
        }
      ]
    }
  ]
}