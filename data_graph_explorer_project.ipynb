{
  "cells": [
    {
      "cell_type": "markdown",
      "source": [
        "# Required Imports"
      ],
      "metadata": {
        "id": "iAsRnbsbavhW"
      },
      "id": "iAsRnbsbavhW"
    },
    {
      "cell_type": "code",
      "execution_count": null,
      "id": "3eda4984-69fb-4455-8fef-20790aca32ae",
      "metadata": {
        "id": "3eda4984-69fb-4455-8fef-20790aca32ae"
      },
      "outputs": [],
      "source": [
        "%matplotlib widget\n",
        "import matplotlib.pyplot as plt\n",
        "import numpy as np\n",
        "from ipywidgets import FileUpload\n",
        "import pandas as pd\n",
        "import io\n",
        "import json"
      ]
    },
    {
      "cell_type": "markdown",
      "id": "0b170f8a-9538-46f1-bd10-f2fe9e1a2699",
      "metadata": {
        "id": "0b170f8a-9538-46f1-bd10-f2fe9e1a2699"
      },
      "source": [
        "# Upload File"
      ]
    },
    {
      "cell_type": "code",
      "execution_count": null,
      "id": "c2679573-277b-4463-af0a-bf81d3e97248",
      "metadata": {
        "id": "c2679573-277b-4463-af0a-bf81d3e97248"
      },
      "outputs": [],
      "source": [
        "uploaded = FileUpload(accept=\".csv\")\n",
        "display(uploaded)\n",
        "\n",
        "for f in uploaded.value:\n",
        "    content = f[\"content\"]\n",
        "    df = pd.read_csv(io.BytesIO(content))\n",
        "    break\n",
        "df"
      ]
    },
    {
      "cell_type": "markdown",
      "id": "cd8b08d5-dff9-48ac-9f9c-fdbc3b099b1b",
      "metadata": {
        "id": "cd8b08d5-dff9-48ac-9f9c-fdbc3b099b1b"
      },
      "source": [
        "# Provide CSV file URL as interactive input"
      ]
    },
    {
      "cell_type": "code",
      "execution_count": null,
      "id": "df96980f-c032-43ba-9228-666024333d2e",
      "metadata": {
        "id": "df96980f-c032-43ba-9228-666024333d2e"
      },
      "outputs": [],
      "source": [
        "url = input(\"Provide direct url of CSV file: \")\n",
        "df = pd.read_csv(url)\n",
        "df\n",
        "# https://github.com/jasperdebie/VisInfo/raw/master/us-state-capitals.csv\n",
        "\n",
        "# source: https://public.opendatasoft.com/explore/dataset/us-state-boundaries/table/\n",
        "with open(\"us-state-boundaries.csv\") as f:\n",
        "    sb = [line.split(';')[-2] for line in f.readlines()[1:]] # state boundaries\n",
        "    sb = ['[['+b[b.find(\"[[[\")+3: b.find(\"]]]\")+1].strip('[').strip(']')+']]' for b in sb]\n",
        "\n",
        "sb2 = []\n",
        "for i in range(len(sb)):\n",
        "    try:\n",
        "        sb2.append(json.loads(sb[i]))\n",
        "    except BaseException as e:\n",
        "        print(i)\n",
        "\n",
        "sb3 = []\n",
        "for b in sb2:\n",
        "    x = []\n",
        "    y = []\n",
        "    for xy in b:\n",
        "        x.append(xy[0])\n",
        "        y.append(xy[1])\n",
        "    sb3.append([x, y])\n",
        "\n",
        "print(sb3[0])\n",
        "\n",
        "fig, axis = plt.subplots()\n",
        "x_col = \"longitude\"\n",
        "y_col = \"latitude\"\n",
        "xlo = df[x_col].min() - 5\n",
        "xhi = df[x_col].max() + 5\n",
        "ylo = df[y_col].min() - 5\n",
        "yhi = df[y_col].max() + 5\n",
        "\n",
        "x = df[x_col].to_numpy()\n",
        "y = df[y_col].to_numpy()\n",
        "\n",
        "plt.axis([xlo, xhi, ylo, yhi])\n",
        "plt.plot(x, y, \"ro\")\n",
        "for b in sb3:\n",
        "    plt.plot(b[0], b[1], \"b\")\n",
        "plt.title(\"USA states and their capital location\")\n",
        "plt.show()"
      ]
    },
    {
      "cell_type": "markdown",
      "id": "47995e7b-d2dc-4c9d-bf70-ee6c791c6f94",
      "metadata": {
        "id": "47995e7b-d2dc-4c9d-bf70-ee6c791c6f94"
      },
      "source": [
        "# Edit CSV file URL variable"
      ]
    },
    {
      "cell_type": "code",
      "execution_count": null,
      "id": "d5418a6b-4b81-4523-90f1-1ab328f6adfa",
      "metadata": {
        "id": "d5418a6b-4b81-4523-90f1-1ab328f6adfa"
      },
      "outputs": [],
      "source": [
        "url = \"https://data.gov.au/data/dataset/7169894e-b518-4933-a900-f79ebc4ec6a3/resource/5d9edabe-b6af-4975-9340-88f55b872a00/download/soe2016antarctic5-year-smoothed-annual-max-min-temperature-by-stationaad.csv\"\n",
        "df = pd.read_csv(url)\n",
        "df"
      ]
    },
    {
      "cell_type": "code",
      "execution_count": null,
      "id": "436124b0-56ab-4af1-b3e4-abfd142ae4d1",
      "metadata": {
        "id": "436124b0-56ab-4af1-b3e4-abfd142ae4d1"
      },
      "outputs": [],
      "source": [
        "df.head(2)"
      ]
    },
    {
      "cell_type": "code",
      "execution_count": null,
      "id": "b54f2a53-31c7-4f70-8d8a-7a14a665f933",
      "metadata": {
        "id": "b54f2a53-31c7-4f70-8d8a-7a14a665f933"
      },
      "outputs": [],
      "source": [
        "col_names = df.columns.values\n",
        "print(col_names)"
      ]
    },
    {
      "cell_type": "code",
      "execution_count": null,
      "id": "e1e204bc-dce9-4917-aaba-663b6e12a65b",
      "metadata": {
        "id": "e1e204bc-dce9-4917-aaba-663b6e12a65b"
      },
      "outputs": [],
      "source": [
        "[print(i, col_names[i]) for i in range(len(col_names))]\n",
        "x_col = int(input(\"Input index number of column to be used for x-axis: \"))\n",
        "y_col = int(input(\"Input index number of column to be used for y-axis: \"))\n",
        "y_col2 = input(\"Input index number of column 2 (optional) to be used for y-axis: \")\n",
        "y_col2 = int(y_col2) if y_col2 else None\n",
        "print(f\"x-axis: {col_names[x_col]}, y-axis: {col_names[y_col]}, y-axis (second): {y_col2}\")"
      ]
    },
    {
      "cell_type": "code",
      "execution_count": null,
      "id": "4a8fdb26-5b04-49ab-8f37-311ec1e0dccd",
      "metadata": {
        "id": "4a8fdb26-5b04-49ab-8f37-311ec1e0dccd"
      },
      "outputs": [],
      "source": [
        "fig, axis = plt.subplots()\n",
        "xlo = df[col_names[x_col]].min() - 5\n",
        "xhi = df[col_names[x_col]].max() + 5\n",
        "ylo = df[col_names[y_col]].min() - 5\n",
        "yhi = df[col_names[y_col]].max() + 5\n",
        "if y_col2:\n",
        "    ylo = min(ylo, df[col_names[y_col2]].min() - 5)\n",
        "    yhi = max(yhi, df[col_names[y_col]].max() + 5)\n",
        "\n",
        "x = df[col_names[x_col]].to_numpy()\n",
        "y = df[col_names[y_col]].to_numpy()\n",
        "if y_col2:\n",
        "    y2 = df[col_names[y_col2]].to_numpy()\n",
        "\n",
        "plt.axis([xlo, xhi, ylo, yhi])\n",
        "# plt.plot(x, y, \"bo\")\n",
        "plt.plot(x, y, \"b\")\n",
        "if y_col2:\n",
        "    # plt.plot(x, y2, \"ro\")\n",
        "    plt.plot(x, y2, \"r\")\n",
        "plt.show()"
      ]
    }
  ],
  "metadata": {
    "kernelspec": {
      "display_name": "Python 3 (ipykernel)",
      "language": "python",
      "name": "python3"
    },
    "language_info": {
      "codemirror_mode": {
        "name": "ipython",
        "version": 3
      },
      "file_extension": ".py",
      "mimetype": "text/x-python",
      "name": "python",
      "nbconvert_exporter": "python",
      "pygments_lexer": "ipython3",
      "version": "3.8.10"
    },
    "colab": {
      "provenance": [],
      "collapsed_sections": [
        "iAsRnbsbavhW",
        "0b170f8a-9538-46f1-bd10-f2fe9e1a2699",
        "cd8b08d5-dff9-48ac-9f9c-fdbc3b099b1b",
        "47995e7b-d2dc-4c9d-bf70-ee6c791c6f94"
      ]
    }
  },
  "nbformat": 4,
  "nbformat_minor": 5
}