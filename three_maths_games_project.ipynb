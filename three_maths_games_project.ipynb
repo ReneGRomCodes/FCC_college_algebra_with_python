{
  "cells": [
    {
      "cell_type": "markdown",
      "source": [
        "# Required Imports"
      ],
      "metadata": {
        "id": "ctpbEDfZZ3T5"
      },
      "id": "ctpbEDfZZ3T5"
    },
    {
      "cell_type": "code",
      "execution_count": 2,
      "id": "e4365f4a-71af-4b54-8000-e549c34df127",
      "metadata": {
        "id": "e4365f4a-71af-4b54-8000-e549c34df127"
      },
      "outputs": [],
      "source": [
        "%matplotlib inline\n",
        "import matplotlib.pyplot as plt\n",
        "import numpy as np\n",
        "from ipywidgets import interactive, fixed\n",
        "from IPython import display\n",
        "from random import randint\n",
        "from time import sleep\n",
        "from sympy import symbols, Eq\n",
        "from sympy.solvers import solve\n",
        "from sympy.parsing.sympy_parser import parse_expr"
      ]
    },
    {
      "cell_type": "markdown",
      "id": "23fa0780-17a8-4801-ae5a-f4ee0172ae40",
      "metadata": {
        "id": "23fa0780-17a8-4801-ae5a-f4ee0172ae40"
      },
      "source": [
        "# Projectile game"
      ]
    },
    {
      "cell_type": "code",
      "source": [
        "xlo = -2\n",
        "xhi = 20\n",
        "ylo = -20\n",
        "yhi = 120\n",
        "\n",
        "def graph(a, b, c, height, distance):\n",
        "    plt.clf()\n",
        "    fix = plt.subplot()\n",
        "    plt.axis([xlo, xhi, ylo, yhi])\n",
        "    plt.plot([0, 0], [ylo, yhi], \"black\")\n",
        "    plt.plot([xlo, xhi], [0, 0], \"black\")\n",
        "    wall_height = height\n",
        "    wall_distance = distance\n",
        "    plt.plot([wall_distance, wall_distance], [0, wall_height], \"brown\")\n",
        "    plt.grid()\n",
        "    plt.title(f\"{a:.1f}*x**2 + {b:.1f}*x + {c:.1f}\")\n",
        "\n",
        "    x = np.linspace(0, xhi, xhi*1000)\n",
        "    y = a*x**2 + b*x + c\n",
        "    success = a*wall_distance**2 + b*wall_distance + c > wall_height\n",
        "    x2 = []\n",
        "    y2 = []\n",
        "    for i in range(len(y)):\n",
        "        if y[i] < 0:\n",
        "            break\n",
        "        if not success and x[i] > wall_distance:\n",
        "            break\n",
        "        x2.append(x[i])\n",
        "        y2.append(y[i])\n",
        "\n",
        "    y2[-1] = 0\n",
        "    plt.plot([x2[-1]], [y2[-1]], 'ro')\n",
        "    plt.plot(x2, y2, \"b\")\n",
        "    plt.show()\n",
        "\n",
        "\n",
        "slider_range = (-25, 25, 0.1)\n",
        "wall_height = randint(2, yhi-20)\n",
        "wall_distance = randint(2, xhi-2)\n",
        "interactive_graph = interactive(graph, a=slider_range, b=slider_range, c=slider_range, height=fixed(wall_height), distance=fixed(wall_distance))\n",
        "interactive_graph"
      ],
      "metadata": {
        "id": "hWypiB5qYoTH"
      },
      "id": "hWypiB5qYoTH",
      "execution_count": null,
      "outputs": []
    },
    {
      "cell_type": "markdown",
      "id": "5ef5840e-9c5a-41b0-8f79-2588f6915f78",
      "metadata": {
        "id": "5ef5840e-9c5a-41b0-8f79-2588f6915f78"
      },
      "source": [
        "# Algebra practice game"
      ]
    },
    {
      "cell_type": "code",
      "execution_count": null,
      "id": "56df3e31-3cfe-47b8-bde5-2096cff8d941",
      "metadata": {
        "id": "56df3e31-3cfe-47b8-bde5-2096cff8d941"
      },
      "outputs": [],
      "source": [
        "def rand_n():\n",
        "    return randint(-100, 100)\n",
        "\n",
        "def rand_op():\n",
        "    op = randint(1, 4)\n",
        "    if op == 1:\n",
        "        return '+'\n",
        "    elif op == 2:\n",
        "        return '-'\n",
        "    elif op == 3:\n",
        "        return '*'\n",
        "    elif op == 4:\n",
        "        return '/'\n",
        "\n",
        "def rpm():\n",
        "    if randint(0, 1):\n",
        "        return '-'\n",
        "    return ''\n",
        "\n",
        "x = symbols(\"x\")\n",
        "\n",
        "eq = \"\"\n",
        "if randint(0, 1):\n",
        "    eq = f\"x {rand_op()} {rand_n()} = {rand_n()}\"\n",
        "else:\n",
        "    eq = f\"{rand_n()} {rand_op()} {rpm()}x {rand_op()} {rand_n()} = {rand_n()}\"\n",
        "eq = eq.replace('- -', '+ ').replace('+ -', '- ').replace('- +=', '- ')\n",
        "lhs, rhs = [parse_expr(part) for part in eq.split(' = ')]\n",
        "sympy_eq = Eq(lhs, rhs)\n",
        "\n",
        "solution = round(solve(sympy_eq, x)[0], 2)\n",
        "\n",
        "print(\"Solve for x in following equation:\")\n",
        "print(eq)\n",
        "ans = [float(num) for num in input(\"Answer: \").split('/')]\n",
        "if len(ans) == 2:\n",
        "    ans = ans[0]/ans[1]\n",
        "else:\n",
        "    ans = ans[0]\n",
        "\n",
        "if abs(ans-solution) < 0.01:\n",
        "    print(\"Correct\")\n",
        "else:\n",
        "    print(f\"The correct answer is {solution}\")\n"
      ]
    },
    {
      "cell_type": "markdown",
      "id": "4354b487-229b-40b3-92e9-74610bc74030",
      "metadata": {
        "id": "4354b487-229b-40b3-92e9-74610bc74030"
      },
      "source": [
        "# Scatter Plot Game"
      ]
    },
    {
      "cell_type": "code",
      "execution_count": null,
      "id": "4dac8ed5-b7dd-42d5-a4ed-e51af3324867",
      "metadata": {
        "id": "4dac8ed5-b7dd-42d5-a4ed-e51af3324867"
      },
      "outputs": [],
      "source": [
        "plt.clf()\n",
        "xlo = -50\n",
        "xhi = 50\n",
        "ylo = -50\n",
        "yhi = 50\n",
        "\n",
        "x = randint(xlo, xhi)\n",
        "y = randint(ylo, yhi)\n",
        "\n",
        "fig = plt.subplot()\n",
        "plt.axis([xlo, xhi, ylo, yhi])\n",
        "plt.plot([x], [y], 'ro')\n",
        "plt.show()\n",
        "\n",
        "gussed_x, gussed_y = [int(round(float(num.strip(' ')), 0)) for num in input(\"Guess the location of point (x, y) on graph: \").split(', ')]\n",
        "\n",
        "if gussed_x == x and gussed_y == y:\n",
        "    print(\"Correct!\")\n",
        "else:\n",
        "    print(f\"Sorry, the correct answer is ({x}, {y})\")"
      ]
    }
  ],
  "metadata": {
    "kernelspec": {
      "display_name": "Python 3 (ipykernel)",
      "language": "python",
      "name": "python3"
    },
    "language_info": {
      "codemirror_mode": {
        "name": "ipython",
        "version": 3
      },
      "file_extension": ".py",
      "mimetype": "text/x-python",
      "name": "python",
      "nbconvert_exporter": "python",
      "pygments_lexer": "ipython3",
      "version": "3.8.10"
    },
    "colab": {
      "provenance": [],
      "collapsed_sections": [
        "ctpbEDfZZ3T5",
        "23fa0780-17a8-4801-ae5a-f4ee0172ae40",
        "5ef5840e-9c5a-41b0-8f79-2588f6915f78",
        "4354b487-229b-40b3-92e9-74610bc74030"
      ]
    }
  },
  "nbformat": 4,
  "nbformat_minor": 5
}